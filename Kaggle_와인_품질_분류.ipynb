{
  "cells": [
    {
      "cell_type": "markdown",
      "id": "ba775cd3",
      "metadata": {
        "id": "ba775cd3"
      },
      "source": [
        "\n",
        "# Wine Classification\n",
        "- Red Wine Quality\n",
        "    - Simple and clean practice dataset for regression or classification modelling\n",
        "    - https://www.kaggle.com/datasets/uciml/red-wine-quality-cortez-et-al-2009/code\n"
      ]
    },
    {
      "cell_type": "markdown",
      "id": "20f0cfc7",
      "metadata": {
        "id": "20f0cfc7"
      },
      "source": [
        "---"
      ]
    },
    {
      "cell_type": "code",
      "execution_count": null,
      "id": "3f949492",
      "metadata": {
        "id": "3f949492",
        "outputId": "e330fb95-c8e5-4bd1-b36e-ef24b20e0346"
      },
      "outputs": [
        {
          "data": {
            "text/html": [
              "<div>\n",
              "<style scoped>\n",
              "    .dataframe tbody tr th:only-of-type {\n",
              "        vertical-align: middle;\n",
              "    }\n",
              "\n",
              "    .dataframe tbody tr th {\n",
              "        vertical-align: top;\n",
              "    }\n",
              "\n",
              "    .dataframe thead th {\n",
              "        text-align: right;\n",
              "    }\n",
              "</style>\n",
              "<table border=\"1\" class=\"dataframe\">\n",
              "  <thead>\n",
              "    <tr style=\"text-align: right;\">\n",
              "      <th></th>\n",
              "      <th>fixed acidity</th>\n",
              "      <th>volatile acidity</th>\n",
              "      <th>citric acid</th>\n",
              "      <th>residual sugar</th>\n",
              "      <th>chlorides</th>\n",
              "      <th>free sulfur dioxide</th>\n",
              "      <th>total sulfur dioxide</th>\n",
              "      <th>density</th>\n",
              "      <th>pH</th>\n",
              "      <th>sulphates</th>\n",
              "      <th>alcohol</th>\n",
              "      <th>quality</th>\n",
              "    </tr>\n",
              "  </thead>\n",
              "  <tbody>\n",
              "    <tr>\n",
              "      <th>0</th>\n",
              "      <td>7.4</td>\n",
              "      <td>0.700</td>\n",
              "      <td>0.00</td>\n",
              "      <td>1.9</td>\n",
              "      <td>0.076</td>\n",
              "      <td>11.0</td>\n",
              "      <td>34.0</td>\n",
              "      <td>0.99780</td>\n",
              "      <td>3.51</td>\n",
              "      <td>0.56</td>\n",
              "      <td>9.4</td>\n",
              "      <td>5</td>\n",
              "    </tr>\n",
              "    <tr>\n",
              "      <th>1</th>\n",
              "      <td>7.8</td>\n",
              "      <td>0.880</td>\n",
              "      <td>0.00</td>\n",
              "      <td>2.6</td>\n",
              "      <td>0.098</td>\n",
              "      <td>25.0</td>\n",
              "      <td>67.0</td>\n",
              "      <td>0.99680</td>\n",
              "      <td>3.20</td>\n",
              "      <td>0.68</td>\n",
              "      <td>9.8</td>\n",
              "      <td>5</td>\n",
              "    </tr>\n",
              "    <tr>\n",
              "      <th>2</th>\n",
              "      <td>7.8</td>\n",
              "      <td>0.760</td>\n",
              "      <td>0.04</td>\n",
              "      <td>2.3</td>\n",
              "      <td>0.092</td>\n",
              "      <td>15.0</td>\n",
              "      <td>54.0</td>\n",
              "      <td>0.99700</td>\n",
              "      <td>3.26</td>\n",
              "      <td>0.65</td>\n",
              "      <td>9.8</td>\n",
              "      <td>5</td>\n",
              "    </tr>\n",
              "    <tr>\n",
              "      <th>3</th>\n",
              "      <td>11.2</td>\n",
              "      <td>0.280</td>\n",
              "      <td>0.56</td>\n",
              "      <td>1.9</td>\n",
              "      <td>0.075</td>\n",
              "      <td>17.0</td>\n",
              "      <td>60.0</td>\n",
              "      <td>0.99800</td>\n",
              "      <td>3.16</td>\n",
              "      <td>0.58</td>\n",
              "      <td>9.8</td>\n",
              "      <td>6</td>\n",
              "    </tr>\n",
              "    <tr>\n",
              "      <th>4</th>\n",
              "      <td>7.4</td>\n",
              "      <td>0.700</td>\n",
              "      <td>0.00</td>\n",
              "      <td>1.9</td>\n",
              "      <td>0.076</td>\n",
              "      <td>11.0</td>\n",
              "      <td>34.0</td>\n",
              "      <td>0.99780</td>\n",
              "      <td>3.51</td>\n",
              "      <td>0.56</td>\n",
              "      <td>9.4</td>\n",
              "      <td>5</td>\n",
              "    </tr>\n",
              "    <tr>\n",
              "      <th>...</th>\n",
              "      <td>...</td>\n",
              "      <td>...</td>\n",
              "      <td>...</td>\n",
              "      <td>...</td>\n",
              "      <td>...</td>\n",
              "      <td>...</td>\n",
              "      <td>...</td>\n",
              "      <td>...</td>\n",
              "      <td>...</td>\n",
              "      <td>...</td>\n",
              "      <td>...</td>\n",
              "      <td>...</td>\n",
              "    </tr>\n",
              "    <tr>\n",
              "      <th>1594</th>\n",
              "      <td>6.2</td>\n",
              "      <td>0.600</td>\n",
              "      <td>0.08</td>\n",
              "      <td>2.0</td>\n",
              "      <td>0.090</td>\n",
              "      <td>32.0</td>\n",
              "      <td>44.0</td>\n",
              "      <td>0.99490</td>\n",
              "      <td>3.45</td>\n",
              "      <td>0.58</td>\n",
              "      <td>10.5</td>\n",
              "      <td>5</td>\n",
              "    </tr>\n",
              "    <tr>\n",
              "      <th>1595</th>\n",
              "      <td>5.9</td>\n",
              "      <td>0.550</td>\n",
              "      <td>0.10</td>\n",
              "      <td>2.2</td>\n",
              "      <td>0.062</td>\n",
              "      <td>39.0</td>\n",
              "      <td>51.0</td>\n",
              "      <td>0.99512</td>\n",
              "      <td>3.52</td>\n",
              "      <td>0.76</td>\n",
              "      <td>11.2</td>\n",
              "      <td>6</td>\n",
              "    </tr>\n",
              "    <tr>\n",
              "      <th>1596</th>\n",
              "      <td>6.3</td>\n",
              "      <td>0.510</td>\n",
              "      <td>0.13</td>\n",
              "      <td>2.3</td>\n",
              "      <td>0.076</td>\n",
              "      <td>29.0</td>\n",
              "      <td>40.0</td>\n",
              "      <td>0.99574</td>\n",
              "      <td>3.42</td>\n",
              "      <td>0.75</td>\n",
              "      <td>11.0</td>\n",
              "      <td>6</td>\n",
              "    </tr>\n",
              "    <tr>\n",
              "      <th>1597</th>\n",
              "      <td>5.9</td>\n",
              "      <td>0.645</td>\n",
              "      <td>0.12</td>\n",
              "      <td>2.0</td>\n",
              "      <td>0.075</td>\n",
              "      <td>32.0</td>\n",
              "      <td>44.0</td>\n",
              "      <td>0.99547</td>\n",
              "      <td>3.57</td>\n",
              "      <td>0.71</td>\n",
              "      <td>10.2</td>\n",
              "      <td>5</td>\n",
              "    </tr>\n",
              "    <tr>\n",
              "      <th>1598</th>\n",
              "      <td>6.0</td>\n",
              "      <td>0.310</td>\n",
              "      <td>0.47</td>\n",
              "      <td>3.6</td>\n",
              "      <td>0.067</td>\n",
              "      <td>18.0</td>\n",
              "      <td>42.0</td>\n",
              "      <td>0.99549</td>\n",
              "      <td>3.39</td>\n",
              "      <td>0.66</td>\n",
              "      <td>11.0</td>\n",
              "      <td>6</td>\n",
              "    </tr>\n",
              "  </tbody>\n",
              "</table>\n",
              "<p>1599 rows × 12 columns</p>\n",
              "</div>"
            ],
            "text/plain": [
              "      fixed acidity  volatile acidity  citric acid  residual sugar  chlorides  \\\n",
              "0               7.4             0.700         0.00             1.9      0.076   \n",
              "1               7.8             0.880         0.00             2.6      0.098   \n",
              "2               7.8             0.760         0.04             2.3      0.092   \n",
              "3              11.2             0.280         0.56             1.9      0.075   \n",
              "4               7.4             0.700         0.00             1.9      0.076   \n",
              "...             ...               ...          ...             ...        ...   \n",
              "1594            6.2             0.600         0.08             2.0      0.090   \n",
              "1595            5.9             0.550         0.10             2.2      0.062   \n",
              "1596            6.3             0.510         0.13             2.3      0.076   \n",
              "1597            5.9             0.645         0.12             2.0      0.075   \n",
              "1598            6.0             0.310         0.47             3.6      0.067   \n",
              "\n",
              "      free sulfur dioxide  total sulfur dioxide  density    pH  sulphates  \\\n",
              "0                    11.0                  34.0  0.99780  3.51       0.56   \n",
              "1                    25.0                  67.0  0.99680  3.20       0.68   \n",
              "2                    15.0                  54.0  0.99700  3.26       0.65   \n",
              "3                    17.0                  60.0  0.99800  3.16       0.58   \n",
              "4                    11.0                  34.0  0.99780  3.51       0.56   \n",
              "...                   ...                   ...      ...   ...        ...   \n",
              "1594                 32.0                  44.0  0.99490  3.45       0.58   \n",
              "1595                 39.0                  51.0  0.99512  3.52       0.76   \n",
              "1596                 29.0                  40.0  0.99574  3.42       0.75   \n",
              "1597                 32.0                  44.0  0.99547  3.57       0.71   \n",
              "1598                 18.0                  42.0  0.99549  3.39       0.66   \n",
              "\n",
              "      alcohol  quality  \n",
              "0         9.4        5  \n",
              "1         9.8        5  \n",
              "2         9.8        5  \n",
              "3         9.8        6  \n",
              "4         9.4        5  \n",
              "...       ...      ...  \n",
              "1594     10.5        5  \n",
              "1595     11.2        6  \n",
              "1596     11.0        6  \n",
              "1597     10.2        5  \n",
              "1598     11.0        6  \n",
              "\n",
              "[1599 rows x 12 columns]"
            ]
          },
          "execution_count": 1,
          "metadata": {},
          "output_type": "execute_result"
        }
      ],
      "source": [
        "import numpy as np\n",
        "import pandas as pd\n",
        "from sklearn.preprocessing import StandardScaler, LabelEncoder\n",
        "from sklearn.model_selection import train_test_split\n",
        "from sklearn import metrics\n",
        "\n",
        "\n",
        "\n",
        "df_wine = pd.read_csv('./winequality-red.csv', delimiter=';')\n",
        "df_wine"
      ]
    },
    {
      "cell_type": "code",
      "execution_count": null,
      "id": "5921abd2",
      "metadata": {
        "id": "5921abd2",
        "outputId": "2005128a-30a3-4ccc-efc5-8d151b485576"
      },
      "outputs": [
        {
          "data": {
            "text/plain": [
              "5    681\n",
              "6    638\n",
              "7    199\n",
              "4     53\n",
              "8     18\n",
              "3     10\n",
              "Name: quality, dtype: int64"
            ]
          },
          "execution_count": 2,
          "metadata": {},
          "output_type": "execute_result"
        }
      ],
      "source": [
        "# 초기 quality 값은 3~8 사이의 수치형 변수\n",
        "df_wine['quality'].value_counts()"
      ]
    },
    {
      "cell_type": "code",
      "execution_count": null,
      "id": "9a388eed",
      "metadata": {
        "id": "9a388eed",
        "outputId": "de2fb976-c35d-42aa-b08a-07a5354eb115"
      },
      "outputs": [
        {
          "data": {
            "text/plain": [
              "bad     1382\n",
              "good     217\n",
              "Name: quality, dtype: int64"
            ]
          },
          "execution_count": 3,
          "metadata": {},
          "output_type": "execute_result"
        }
      ],
      "source": [
        "# 수치형 변수인 quality를 범주형으로 전환\n",
        "\n",
        "# 분할 기준: \n",
        "bins = (2, 6.5, 8)\n",
        "    # (2~6.5), (6.5~8)  2개 파트로 분할\n",
        "\n",
        "group_names = ['bad', 'good']\n",
        "            # (2~6.5)점 = 'bad'\n",
        "            # (6.5~8)점 = 'good'\n",
        "        \n",
        "df_wine['quality'] = pd.cut(df_wine['quality'], bins = bins, labels = group_names)\n",
        "\n",
        "df_wine['quality'].value_counts()"
      ]
    },
    {
      "cell_type": "code",
      "execution_count": null,
      "id": "8050c2de",
      "metadata": {
        "id": "8050c2de"
      },
      "outputs": [],
      "source": [
        ""
      ]
    },
    {
      "cell_type": "code",
      "execution_count": null,
      "id": "a2fc4190",
      "metadata": {
        "id": "a2fc4190"
      },
      "outputs": [],
      "source": [
        ""
      ]
    },
    {
      "cell_type": "markdown",
      "id": "9d98711f",
      "metadata": {
        "id": "9d98711f"
      },
      "source": [
        "### train-test set 분할"
      ]
    },
    {
      "cell_type": "code",
      "execution_count": null,
      "id": "30ec2b6b",
      "metadata": {
        "id": "30ec2b6b"
      },
      "outputs": [],
      "source": [
        "# 예측할 변수인 quality를 y로 설정, 그 외 값들을 X로 설정\n",
        "X = df_wine.drop('quality', axis = 1)\n",
        "y = df_wine['quality'].values\n",
        "\n",
        "# train/test 8:2로 분할\n",
        "X_train, X_test, y_train, y_test = train_test_split(X, y, test_size = 0.2, random_state = 42)\n",
        "\n",
        "# 독립변수에 scaling 적용\n",
        "sc = StandardScaler()\n",
        "X_train = sc.fit_transform(X_train)\n",
        "X_test = sc.fit_transform(X_test)\n"
      ]
    },
    {
      "cell_type": "code",
      "execution_count": null,
      "id": "4f18ceac",
      "metadata": {
        "id": "4f18ceac"
      },
      "outputs": [],
      "source": [
        ""
      ]
    },
    {
      "cell_type": "markdown",
      "id": "4808f8ab",
      "metadata": {
        "id": "4808f8ab"
      },
      "source": [
        "## 머신러닝 분류 모델 적용"
      ]
    },
    {
      "cell_type": "markdown",
      "id": "7fac4c78",
      "metadata": {
        "id": "7fac4c78"
      },
      "source": [
        "### Gausian Naive Bayes"
      ]
    },
    {
      "cell_type": "code",
      "execution_count": null,
      "id": "29b35f68",
      "metadata": {
        "id": "29b35f68",
        "outputId": "33105356-2c6c-4193-baa6-265e433e7c61"
      },
      "outputs": [
        {
          "name": "stdout",
          "output_type": "stream",
          "text": [
            "정확도: 85.31%\n"
          ]
        }
      ],
      "source": [
        "from sklearn.naive_bayes import GaussianNB\n",
        "\n",
        "# 모델 설정\n",
        "NB_model = GaussianNB()\n",
        "\n",
        "# 모델 학습\n",
        "NB_model.fit(X_train, y_train)\n",
        "\n",
        "# 예측\n",
        "y_pred = NB_model.predict(X_test)\n",
        "\n",
        "# 정확도 확인\n",
        "print(f\"정확도: {metrics.accuracy_score(y_test, y_pred)*100:.2f}%\")   # Precision이 평가 기준"
      ]
    },
    {
      "cell_type": "markdown",
      "id": "042732bd",
      "metadata": {
        "id": "042732bd"
      },
      "source": [
        "### RandomForest"
      ]
    },
    {
      "cell_type": "code",
      "execution_count": null,
      "id": "7eeb8482",
      "metadata": {
        "id": "7eeb8482",
        "outputId": "3b46b804-e4a5-4172-cbe7-adf37d94827b"
      },
      "outputs": [
        {
          "name": "stdout",
          "output_type": "stream",
          "text": [
            "정확도: 87.50%\n"
          ]
        }
      ],
      "source": [
        "from sklearn.ensemble import RandomForestClassifier\n",
        "\n",
        "# 모델 설정\n",
        "model = RandomForestClassifier()\n",
        "\n",
        "# 모델 학습\n",
        "model.fit(X_train, y_train)\n",
        "\n",
        "# 예측\n",
        "y_pred = model.predict(X_test)\n",
        "\n",
        "# 정확도 확인\n",
        "print(f\"정확도: {metrics.accuracy_score(y_test, y_pred)*100:.2f}%\")   # Precision이 평가 기준\n",
        "              "
      ]
    },
    {
      "cell_type": "code",
      "execution_count": null,
      "id": "b637b289",
      "metadata": {
        "id": "b637b289"
      },
      "outputs": [],
      "source": [
        ""
      ]
    },
    {
      "cell_type": "markdown",
      "id": "029cdfb8",
      "metadata": {
        "id": "029cdfb8"
      },
      "source": [
        "### Support Vector Machine"
      ]
    },
    {
      "cell_type": "code",
      "execution_count": null,
      "id": "ddf7be05",
      "metadata": {
        "id": "ddf7be05",
        "outputId": "fcd3c894-971f-4f67-f12c-184ea1ccc7d8"
      },
      "outputs": [
        {
          "name": "stdout",
          "output_type": "stream",
          "text": [
            "정확도: 87.50%\n"
          ]
        }
      ],
      "source": [
        "from sklearn.svm import SVC\n",
        "\n",
        "# 모델 설정\n",
        "model = SVC()\n",
        "\n",
        "# 모델 학습\n",
        "model.fit(X_train, y_train)\n",
        "\n",
        "# 예측\n",
        "y_pred = model.predict(X_test)\n",
        "\n",
        "# 정확도 확인\n",
        "print(f\"정확도: {metrics.accuracy_score(y_test, y_pred)*100:.2f}%\")   # Precision이 평가 기준\n",
        "\n"
      ]
    },
    {
      "cell_type": "code",
      "execution_count": null,
      "id": "a24cae74",
      "metadata": {
        "id": "a24cae74"
      },
      "outputs": [],
      "source": [
        ""
      ]
    },
    {
      "cell_type": "markdown",
      "id": "a6720240",
      "metadata": {
        "id": "a6720240"
      },
      "source": [
        "### K-nearest neighborhood"
      ]
    },
    {
      "cell_type": "code",
      "execution_count": null,
      "id": "e4ba7db0",
      "metadata": {
        "id": "e4ba7db0",
        "outputId": "bf960d44-2cda-4622-e912-7ba3cfb744ba"
      },
      "outputs": [
        {
          "name": "stdout",
          "output_type": "stream",
          "text": [
            "정확도: 87.50%\n"
          ]
        }
      ],
      "source": [
        "from sklearn.neighbors import KNeighborsClassifier\n",
        "\n",
        "\n",
        "# 모델 설정\n",
        "model = KNeighborsClassifier()\n",
        "\n",
        "# 모델 학습\n",
        "model.fit(X_train, y_train)\n",
        "\n",
        "# 예측\n",
        "y_pred = model.predict(X_test)\n",
        "\n",
        "# 정확도 확인\n",
        "print(f\"정확도: {metrics.accuracy_score(y_test, y_pred)*100:.2f}%\")   # Precision이 평가 기준\n",
        "\n"
      ]
    },
    {
      "cell_type": "code",
      "execution_count": null,
      "id": "9894952f",
      "metadata": {
        "id": "9894952f"
      },
      "outputs": [],
      "source": [
        ""
      ]
    },
    {
      "cell_type": "markdown",
      "id": "99dbb38a",
      "metadata": {
        "id": "99dbb38a"
      },
      "source": [
        "## Hyperparameter 조정으로 성능 향상"
      ]
    },
    {
      "cell_type": "markdown",
      "id": "6d4d048b",
      "metadata": {
        "id": "6d4d048b"
      },
      "source": [
        "### RandomForest"
      ]
    },
    {
      "cell_type": "code",
      "execution_count": null,
      "id": "b09c5960",
      "metadata": {
        "id": "b09c5960",
        "outputId": "2a909fb1-1cd3-471d-d06c-67302e708ae7"
      },
      "outputs": [
        {
          "name": "stdout",
          "output_type": "stream",
          "text": [
            "정확도: 89.38%\n"
          ]
        }
      ],
      "source": [
        "\n",
        "# 모델 설정\n",
        "model = RandomForestClassifier(n_estimators=150, criterion='entropy',\n",
        "                                  max_depth=100, min_samples_split=4,\n",
        "                                  min_samples_leaf=1)\n",
        "\n",
        "# 모델 학습\n",
        "model.fit(X_train, y_train)\n",
        "\n",
        "# 예측\n",
        "y_pred = model.predict(X_test)\n",
        "\n",
        "# 정확도 확인\n",
        "print(f\"정확도: {metrics.accuracy_score(y_test, y_pred)*100:.2f}%\")   # Precision이 평가 기준\n",
        "\n"
      ]
    },
    {
      "cell_type": "markdown",
      "id": "7a644786",
      "metadata": {
        "id": "7a644786"
      },
      "source": [
        "### K-nearest neighborhood"
      ]
    },
    {
      "cell_type": "code",
      "execution_count": null,
      "id": "4e18ba45",
      "metadata": {
        "id": "4e18ba45",
        "outputId": "4d779a80-649d-4973-9b83-e19a2a1da536"
      },
      "outputs": [
        {
          "name": "stdout",
          "output_type": "stream",
          "text": [
            "K=1 - 정확도: 89.06%\n",
            "K=2 - 정확도: 87.19%\n",
            "K=3 - 정확도: 86.56%\n",
            "K=4 - 정확도: 87.81%\n",
            "K=5 - 정확도: 87.50%\n",
            "K=6 - 정확도: 88.44%\n",
            "K=7 - 정확도: 87.50%\n",
            "K=8 - 정확도: 87.19%\n",
            "K=9 - 정확도: 88.44%\n",
            "K=10 - 정확도: 88.12%\n",
            "K=11 - 정확도: 88.44%\n",
            "K=12 - 정확도: 89.38%\n",
            "K=13 - 정확도: 89.06%\n",
            "K=14 - 정확도: 88.44%\n",
            "K=15 - 정확도: 89.06%\n"
          ]
        }
      ],
      "source": [
        "\n",
        "for k in range(1,16):\n",
        "\n",
        "    # 모델 설정\n",
        "    model = KNeighborsClassifier(n_neighbors=k)\n",
        "\n",
        "    # 모델 학습\n",
        "    model.fit(X_train, y_train)\n",
        "\n",
        "    # 예측\n",
        "    y_pred = model.predict(X_test)\n",
        "\n",
        "    # 정확도 확인\n",
        "    print(f\"K={k} - 정확도: {metrics.accuracy_score(y_test, y_pred)*100:.2f}%\")   # Precision이 평가 기준\n",
        "\n"
      ]
    },
    {
      "cell_type": "markdown",
      "id": "65185922",
      "metadata": {
        "id": "65185922"
      },
      "source": [
        "# 결과\n",
        "\n",
        "## 문제 정의\n",
        "- 다양한 머신 러닝 모델을 활용하여 와인 품질을 이진 분류(`good` or `bad`) 하는 분석을 수행\n",
        "    - 데이터셋의 전체 컬럼 중, `quality`를 범주형 변인으로 수정하여 종속 변인으로 사용\n",
        "    - 나머지 컬럼 `['fixed', 'acidity', 'volatile', 'acidity', 'citric', 'acid', 'residual', 'sugar', 'chlorides', 'free', 'sulfur', 'dioxide', 'total', 'sulfur', 'dioxide', 'density', 'pH', 'sulphates', 'alcohol']` 의 데이터를 독립 변인으로 사용\n",
        "\n",
        "## 분류 과제 수행\n",
        "- 가우시안 나이브 베이즈, 랜덤포레스트, 서포트벡터머신, K-최근접 이웃 등을 사용\n",
        "    - 상기한 모델 중, 대부분이 **정확도: 87.50%**를 달성\n",
        "    \n",
        "## 모델 최적화\n",
        "- 모델 성능을 더 높이기 위해 hyper parameter tunning을 시도\n",
        "    - 랜덤포레스트: 정확도: **87.50% -> 89.38%**로 상승\n",
        "    - K-최근접 이웃: 정확도: **87.50% -> 89.06%**로 상승\n",
        "    \n",
        "## 논의\n",
        "- 다양한 머신 러닝 모델은 각각의 장단점이 있기 때문에, 문제에서 성능이 잘 나오는 모델을 선택하는 것이 중요\n",
        "- 또한, 같은 모델이더라도 hyper parameter에 따라 모델 성능에 편차가 있기 때문에, 이를 잘 튜닝하는 것도 중요\n",
        "    - test set은 hyperparameter tunning 과정에서는 사용되면 안되기 때문에, training set을 다시 분할하여 validation set을 만들어야 할 필요가 있음\n",
        "    - 다양한 hyperparameter에 따른 성능을 확인하기 위해 RandomSearch, GridSearch 등을 활용할 수 있음"
      ]
    },
    {
      "cell_type": "code",
      "execution_count": null,
      "id": "af32e004",
      "metadata": {
        "id": "af32e004"
      },
      "outputs": [],
      "source": [
        ""
      ]
    },
    {
      "cell_type": "code",
      "execution_count": null,
      "id": "f2c998e9",
      "metadata": {
        "id": "f2c998e9"
      },
      "outputs": [],
      "source": [
        ""
      ]
    }
  ],
  "metadata": {
    "kernelspec": {
      "display_name": "Python 3 (ipykernel)",
      "language": "python",
      "name": "python3"
    },
    "language_info": {
      "codemirror_mode": {
        "name": "ipython",
        "version": 3
      },
      "file_extension": ".py",
      "mimetype": "text/x-python",
      "name": "python",
      "nbconvert_exporter": "python",
      "pygments_lexer": "ipython3",
      "version": "3.9.5"
    },
    "colab": {
      "name": "Kaggle - 와인 품질 분류.ipynb",
      "provenance": []
    }
  },
  "nbformat": 4,
  "nbformat_minor": 5
}