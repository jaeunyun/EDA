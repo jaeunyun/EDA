{
  "nbformat": 4,
  "nbformat_minor": 0,
  "metadata": {
    "colab": {
      "name": "22-02-08 연령별인구현황 분석.ipynb",
      "provenance": [],
      "collapsed_sections": []
    },
    "kernelspec": {
      "name": "python3",
      "display_name": "Python 3"
    },
    "language_info": {
      "name": "python"
    }
  },
  "cells": [
    {
      "cell_type": "markdown",
      "source": [
        "# 행안부 연령별 인구현황( https://jumin.mois.go.kr/index.jsp )"
      ],
      "metadata": {
        "id": "PWU4An-LzIR6"
      }
    },
    {
      "cell_type": "code",
      "execution_count": null,
      "metadata": {
        "colab": {
          "base_uri": "https://localhost:8080/"
        },
        "id": "4cu4dvmjTWA0",
        "outputId": "a6ce779b-e884-411c-f266-b8527289d3f5"
      },
      "outputs": [
        {
          "output_type": "stream",
          "name": "stdout",
          "text": [
            "dir: cannot access '*.csv': No such file or directory\n"
          ]
        }
      ],
      "source": [
        "!dir *.csv"
      ]
    },
    {
      "cell_type": "code",
      "source": [
        "!cp *.csv /content/drive/MyDrive/"
      ],
      "metadata": {
        "colab": {
          "base_uri": "https://localhost:8080/"
        },
        "id": "OV9ZdEKNTsvq",
        "outputId": "7bc2bfa7-ea60-418b-8c10-4fd8bb78ffc4"
      },
      "execution_count": null,
      "outputs": [
        {
          "output_type": "stream",
          "name": "stdout",
          "text": [
            "cp: cannot stat '*.csv': No such file or directory\n"
          ]
        }
      ]
    },
    {
      "cell_type": "code",
      "source": [
        "import pandas as pd\n",
        "\n",
        "filename=\"/content/drive/MyDrive/202112_202112_연령별인구현황_월간.csv\"\n",
        "jumin = pd.read_csv(filename, encoding=\"euc-kr\", thousands=\",\")\n",
        "jumin"
      ],
      "metadata": {
        "id": "dUZmvMfKT6Kj"
      },
      "execution_count": null,
      "outputs": []
    },
    {
      "cell_type": "code",
      "source": [
        "jumin.info()"
      ],
      "metadata": {
        "colab": {
          "base_uri": "https://localhost:8080/"
        },
        "id": "yuzJncfccu6h",
        "outputId": "903a6c68-9d53-47af-b352-9bec8d4d457b"
      },
      "execution_count": null,
      "outputs": [
        {
          "output_type": "stream",
          "name": "stdout",
          "text": [
            "<class 'pandas.core.frame.DataFrame'>\n",
            "RangeIndex: 3861 entries, 0 to 3860\n",
            "Columns: 104 entries, 행정구역 to 2021년12월_계_100세 이상\n",
            "dtypes: int64(103), object(1)\n",
            "memory usage: 3.1+ MB\n"
          ]
        }
      ]
    },
    {
      "cell_type": "code",
      "source": [
        "# 행정구역의 법정동코드와 시군구를 분리\n",
        "jumin[\"행정구역\"].str.split(\"(\", expand=True) # 분리한것을 칼럼으로 생성, 반환"
      ],
      "metadata": {
        "id": "UPYxGZzzUVNx"
      },
      "execution_count": null,
      "outputs": []
    },
    {
      "cell_type": "code",
      "source": [
        "# 행정구역의 법정동코드와 시군구를 분리.index기준 가로 합체\n",
        "jumin = jumin.join( \n",
        "    jumin[\"행정구역\"].str.split(\"(\", expand=True) \n",
        ")\n",
        "jumin.head(3)"
      ],
      "metadata": {
        "id": "uSmKcCaFVcrL"
      },
      "execution_count": null,
      "outputs": []
    },
    {
      "cell_type": "code",
      "source": [
        "# 맨우측 괄호 삭제\n",
        "jumin[1] = jumin[1].str.replace(\")\",\"\")\n",
        "jumin.head(1)"
      ],
      "metadata": {
        "id": "fj_b9faPWJVa"
      },
      "execution_count": null,
      "outputs": []
    },
    {
      "cell_type": "code",
      "source": [
        "# 칼럼명 수정\n",
        "jumin.rename(\n",
        "    {0:\"시군구\", 1:\"법정동코드\"}, \n",
        "    axis=1, \n",
        "    inplace=True )\n",
        "# 독산동 인구현황 추출\n",
        "# \"시군구\"번 칼럼값이 \"독산동\"으로 끝나는 행 추출\n",
        "jumin[  jumin[\"시군구\"].str.endswith(\"독산제1동\")  ]  # xxx로 끝나는 문자열\n",
        "# jumin[  jumin[\"시군구\"].str.contains(\"독산\")  ]  # xx를 포함하는 문자열\n",
        "# jumin[  jumin[\"시군구\"].str.startswith(\"제주\")  ]  # xx로 시작하는 문자열"
      ],
      "metadata": {
        "id": "VPd-7hQwW19l"
      },
      "execution_count": null,
      "outputs": []
    },
    {
      "cell_type": "code",
      "source": [
        "# 독산제1동정보 추출\n",
        "독산제1동 = jumin[  jumin[\"시군구\"].str.endswith(\"독산제1동\")  ]  # xxx로 끝나는 문자열\n",
        "독산제1동"
      ],
      "metadata": {
        "id": "DhuGP5gyZdLS"
      },
      "execution_count": null,
      "outputs": []
    },
    {
      "cell_type": "code",
      "source": [
        "# 코랩 한글 적용\n",
        "!sudo apt-get install -y fonts-nanum\n",
        "!sudo fc-cache -fv\n",
        "!rm ~/.cache/matplotlib -rf\n",
        "# 코랩 한글 적용 후 런타임 재시작\n",
        "import matplotlib.pyplot as plt\n",
        "plt.rc('font', family='NanumBarunGothic')\n",
        "plt.rc('axes', unicode_minus=False)"
      ],
      "metadata": {
        "id": "7-P6YUdhuuFS"
      },
      "execution_count": null,
      "outputs": []
    },
    {
      "cell_type": "code",
      "source": [
        "# 독산제1동의 연령별 인구분포 추출하여 선그래프로 그리기\n",
        "# 선그래프는 칼럼당 1줄이기에 행을  추출하여 행과 열의 위치 바꾸가\n",
        "# \"2021년12월_계_0세\" ~ \"2021년12월_계_100세 이상\" 추출\n",
        "# 독산제1동.T\n",
        "독산제1동.loc[ : , \"2021년12월_계_0세\":\"2021년12월_계_100세 이상\" ].T.plot(figsize=(16, 3))"
      ],
      "metadata": {
        "id": "qsyF9b0MZxMa"
      },
      "execution_count": null,
      "outputs": []
    },
    {
      "cell_type": "code",
      "source": [
        "# 독산제1동과 가장 비슷한 인구 분포를 가진 동을 찾으세요.\n",
        "# 독산제1동의 연령별 인구수와 다른동의 연령별 인구수의 차이의 제곱의 합이 가장 작은 동을 찾기\n",
        "# 1. 0세~ 10세이상만 추출\n",
        "# 2. 독산제1동 추출\n",
        "# 3. 다른동추출, 반복, 연령별 차이 제곱의 합 계산\n",
        "# 4. 계산한 값의 최소값을 저장 \n",
        "\n",
        "# 동별 0세~100세이상 칼럼만 추출\n",
        "전체연령 = jumin.loc[ : , \"2021년12월_계_0세\":\"2021년12월_계_100세 이상\"]\n",
        "전체연령.info()"
      ],
      "metadata": {
        "id": "hvSyrLO-cOHs"
      },
      "execution_count": null,
      "outputs": []
    },
    {
      "cell_type": "code",
      "source": [
        "독산제1동연령 = 독산제1동.loc[ :, \"2021년12월_계_0세\":\"2021년12월_계_100세 이상\"]\n",
        "독산제1동연령"
      ],
      "metadata": {
        "id": "7fGeJt8E5KoI"
      },
      "execution_count": null,
      "outputs": []
    },
    {
      "cell_type": "code",
      "source": [
        ""
      ],
      "metadata": {
        "id": "gZ6rmshT52R0"
      },
      "execution_count": null,
      "outputs": []
    },
    {
      "cell_type": "code",
      "source": [
        "# 계산방법 예제\n",
        "# 독산제1동에서 전체연령의 2번 행의 차이를 계산\n",
        "독산제1동연령 - 전체연령.loc[2, :]"
      ],
      "metadata": {
        "id": "J9_3s1Mn7NJb"
      },
      "execution_count": null,
      "outputs": []
    },
    {
      "cell_type": "code",
      "source": [
        "# # 독산제1동에서 전체연령의 2번 행의 차이의 제곱을 계산\n",
        "(독산제1동연령 - 전체연령.loc[2, :] )**2"
      ],
      "metadata": {
        "id": "reGMJg0_74t5"
      },
      "execution_count": null,
      "outputs": []
    },
    {
      "cell_type": "code",
      "source": [
        "# # 독산제1동에서 전체연령의 2번 행의 차이의 제곱을 계산하여 변수에 저장\n",
        "연령별차이제곱 = (독산제1동연령 - 전체연령.loc[2, :] )**2\n",
        "연령별차이제곱 # DF"
      ],
      "metadata": {
        "id": "0zClK2Ph8PUe"
      },
      "execution_count": null,
      "outputs": []
    },
    {
      "cell_type": "code",
      "source": [
        "# # 독산제1동에서 전체연령의 2번 행의 차이의 제곱을 계산한것의 총합\n",
        "연령별차이제곱.loc[296].sum() # 연령별차이제곱의 전체합 -> 모든 행에 대해 계산, 최소값 찾기(반복문)"
      ],
      "metadata": {
        "id": "HqRnbDj99Tkk"
      },
      "execution_count": null,
      "outputs": []
    },
    {
      "cell_type": "code",
      "source": [
        "# 한줄로 계산\n",
        "((독산제1동연령 - 전체연령.loc[2, :] )**2).loc[296].sum() "
      ],
      "metadata": {
        "id": "iEpbuHw08Q43"
      },
      "execution_count": null,
      "outputs": []
    },
    {
      "cell_type": "code",
      "source": [
        "# 동별 0세~100세이상 칼럼만 추출\n",
        "# 기준동 제외 조건\n",
        "전체연령 = jumin.loc[ \n",
        "                 ~jumin[\"시군구\"].str.endswith(\"독산제1동\")  , \n",
        "                 \"2021년12월_계_0세\":\"2021년12월_계_100세 이상\" \n",
        "                 ]\n",
        "#전체연령의 index는 순차번호\n",
        "\n",
        "최소연령별차이제곱의합 = 999999999999999\n",
        "최소연령별차이제곱의합idx = -1\n",
        "\n",
        "# 전체연령의 모든 행을 반복\n",
        "for idx in 전체연령.index:\n",
        "  #idx번째 행 추출\n",
        "  연령별차이제곱의합 = ((독산제1동연령 - 전체연령.loc[idx, :] )**2).loc[296].sum() \n",
        "  if 연령별차이제곱의합 < 최소연령별차이제곱의합:\n",
        "    최소연령별차이제곱의합 = 연령별차이제곱의합\n",
        "    최소연령별차이제곱의합idx = idx\n",
        "\n",
        "print(\"최소연령별차이제곱의합\",최소연령별차이제곱의합)\n",
        "print(\"최소연령별차이제곱의합idx\",최소연령별차이제곱의합idx)\n",
        "print(\"최소연령별차이의 동이름\",jumin.loc[최소연령별차이제곱의합idx, \"시군구\"])"
      ],
      "metadata": {
        "id": "nWpOLsvZCEsJ"
      },
      "execution_count": null,
      "outputs": []
    },
    {
      "cell_type": "code",
      "source": [
        "# 독산제1동, 경기도 수원시 팔달구 인계동의 연령별 인구분포 선그래프 출력\n",
        "jumin.loc[ \n",
        "          [296,1312 ], \n",
        "          \"2021년12월_계_0세\":\"2021년12월_계_100세 이상\"].T.plot(figsize=(16,4))"
      ],
      "metadata": {
        "id": "5pyd80tkFSG4"
      },
      "execution_count": null,
      "outputs": []
    },
    {
      "cell_type": "code",
      "source": [
        "# 독산제1동과 비슷한 10개동 검색\n",
        "# 최소연령별차이제곱의합을 새로운 칼럼에 저장\n",
        "# 최소연령별차이제곱의합을 리스트에 저장, 리스트를 칼럼에 저장\n",
        "\n",
        "전체연령 = jumin.loc[ \n",
        "                 :  , \n",
        "                 \"2021년12월_계_0세\":\"2021년12월_계_100세 이상\" \n",
        "                 ]\n",
        "#전체연령의 index는 순차번호\n",
        "\n",
        "연령별차이제곱의합_리스트 = [] \n",
        "\n",
        "# 전체연령의 모든 행을 반복\n",
        "for idx in 전체연령.index:\n",
        "  #idx번째 행 추출\n",
        "  연령별차이제곱의합 = ((독산제1동연령 - 전체연령.loc[idx, :] )**2).loc[296].sum() \n",
        "  연령별차이제곱의합_리스트.append( 연령별차이제곱의합 )\n",
        "\n",
        "jumin[\"연령별차이제곱의합\"] = 연령별차이제곱의합_리스트\n"
      ],
      "metadata": {
        "id": "0eEgW1FZF7kA"
      },
      "execution_count": null,
      "outputs": []
    },
    {
      "cell_type": "code",
      "source": [
        "jumin.sort_values(by=\"연령별차이제곱의합\").head().loc[ :,\"2021년12월_계_0세\":\"2021년12월_계_100세 이상\"].T.plot(figsize=(20,4))"
      ],
      "metadata": {
        "id": "UfSGFZoeG2rm"
      },
      "execution_count": null,
      "outputs": []
    },
    {
      "cell_type": "code",
      "source": [
        "jumin.set_index(\"시군구\").sort_values(by=\"연령별차이제곱의합\").tail().loc[ :,\"2021년12월_계_0세\":\"2021년12월_계_100세 이상\"].T.plot(figsize=(20,4))"
      ],
      "metadata": {
        "id": "E1D1AcexHgKf"
      },
      "execution_count": null,
      "outputs": []
    },
    {
      "cell_type": "code",
      "source": [
        "#행정구역의 끝글자의 종류는?\n",
        "jumin[\"시군구\"].str.strip().str.get(-1).unique()"
      ],
      "metadata": {
        "id": "65_TGS4TIkGQ"
      },
      "execution_count": null,
      "outputs": []
    },
    {
      "cell_type": "code",
      "source": [
        "# 공백이 두개 이상 있는 것. strip() => 앞뒤공백 글자 지우기\n",
        "jumin[ jumin[\"시군구\"].str.strip().str.count(\" \") >= 2 ] "
      ],
      "metadata": {
        "id": "O7uqmhYzJVYP"
      },
      "execution_count": null,
      "outputs": []
    },
    {
      "cell_type": "code",
      "source": [
        "# 독산제1동 연령별 인구분포와 차이가 가장 큰 동 5개의 그래프\n",
        "jumin[ \n",
        "      jumin[\"시군구\"].str.strip().str.count(\" \") >= 2  # 행선택 조건. 1,2레벨 행정구역 제외(서울시, 서울시 강동구 이런 패턴 제외)\n",
        "    ].set_index(\"시군구\").sort_values(by=\"연령별차이제곱의합\").tail().loc[\n",
        "                                                              : ,\n",
        "                                                              \"2021년12월_계_0세\":\"2021년12월_계_100세 이상\"].T.plot(figsize=(20,4))"
      ],
      "metadata": {
        "id": "5EYB7gY5KVHd"
      },
      "execution_count": null,
      "outputs": []
    }
  ]
}