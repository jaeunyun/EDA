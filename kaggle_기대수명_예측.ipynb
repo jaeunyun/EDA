{
  "nbformat": 4,
  "nbformat_minor": 0,
  "metadata": {
    "colab": {
      "name": "kaggle_기대수명_예측.ipynb",
      "provenance": []
    },
    "kernelspec": {
      "name": "python3",
      "display_name": "Python 3"
    },
    "language_info": {
      "name": "python"
    }
  },
  "cells": [
    {
      "cell_type": "code",
      "source": [
        ""
      ],
      "metadata": {
        "id": "Ai6NvA4IvZTS"
      },
      "execution_count": null,
      "outputs": []
    },
    {
      "cell_type": "markdown",
      "source": [
        "# **기대수명 예측**\n",
        "\n",
        "https://www.kaggle.com/datasets/kumarajarshi/life-expectancy-who"
      ],
      "metadata": {
        "id": "H7n4MsvHvbXE"
      }
    },
    {
      "cell_type": "code",
      "execution_count": null,
      "metadata": {
        "id": "By-uWNnEe7hw"
      },
      "outputs": [],
      "source": [
        "import pandas as pd\n",
        "import seaborn as sns \n"
      ]
    },
    {
      "cell_type": "code",
      "source": [
        "life = pd.read_csv(\"life_expectancy.csv\")\n",
        "print(life.head())"
      ],
      "metadata": {
        "id": "zn7HO0Rfv3oJ"
      },
      "execution_count": null,
      "outputs": []
    },
    {
      "cell_type": "code",
      "source": [
        "#필요한 컬럼만 추출\n",
        "life = life[ ['Life expectancy', 'Year', 'Alcohol', \n",
        "              'Percentage expenditure', 'Total expenditure', \n",
        "              'Hepatitis B', 'Measles', 'Polio', 'BMI', 'GDP', \n",
        "              'Thinness 1-19 years', 'Thinness 5-9 years'] ]\n",
        "print(life)"
      ],
      "metadata": {
        "id": "jYeDkFAll4Eo"
      },
      "execution_count": null,
      "outputs": []
    },
    {
      "cell_type": "code",
      "source": [
        "life.dropna(inplace = True)  #dropna()로 결손값 행 삭제 \n",
        "print(life.isnull().sum())   #결손값의 개수를 합한다."
      ],
      "metadata": {
        "id": "m49gTWuZl4Ce"
      },
      "execution_count": null,
      "outputs": []
    },
    {
      "cell_type": "code",
      "source": [
        "import matplotlib.pyplot as plt\n",
        " \n",
        "sns.set(rc = {'figure.figsize': (12, 10)})\n",
        "correlation_matrix = life.corr().round(2)  #round2는 소숫점 아래 2까지 나타냄. \n",
        "sns.heatmap(data = correlation_matrix, annot = True) #seaborn의 히트맵으로 시각화 \n",
        "plt.show() \n"
      ],
      "metadata": {
        "id": "rsJjecRGl4AP"
      },
      "execution_count": null,
      "outputs": []
    },
    {
      "cell_type": "code",
      "source": [
        "sns.pairplot(life [['Life expectancy', 'Alcohol', 'Percentage expenditure', \n",
        "                    'Measles', 'Polio', 'BMI', 'GDP', 'Thinness 1-19 years']])\n",
        "plt.show()\n"
      ],
      "metadata": {
        "id": "FCz0L3Mnl399"
      },
      "execution_count": null,
      "outputs": []
    },
    {
      "cell_type": "code",
      "source": [
        "X = life[ ['Alcohol', 'Percentage expenditure', 'Polio', \n",
        "           'BMI', 'GDP', 'Thinness 1-19 years']]   #학습용 데이터 \n",
        "y = life['Life expectancy']                        #학습용 데이터의 정답 \n",
        " \n"
      ],
      "metadata": {
        "id": "G7HmIC5Nl375"
      },
      "execution_count": null,
      "outputs": []
    },
    {
      "cell_type": "code",
      "source": [
        "#데이터를 80:20으로 분리 \n",
        "from sklearn.model_selection import train_test_split\n",
        "X_train, X_test, y_train, y_test = train_test_split(X, y, test_size = 0.2)\n",
        " \n",
        "from sklearn.linear_model import LinearRegression #선형회귀\n",
        "from sklearn.metrics import mean_squared_error    #평균제곱근오차 \n",
        "import numpy as np\n",
        " \n"
      ],
      "metadata": {
        "id": "VhPJ8r_6l35l"
      },
      "execution_count": null,
      "outputs": []
    },
    {
      "cell_type": "code",
      "source": [
        "lin_model = LinearRegression()\n",
        "lin_model.fit(X_train, y_train)   #선형회귀 모델 생성\n",
        "y_test_predict = lin_model.predict(X_test)  #새 데이터에 대한 예측값 \n",
        " "
      ],
      "metadata": {
        "id": "YM7Kkzpdv66r"
      },
      "execution_count": null,
      "outputs": []
    },
    {
      "cell_type": "code",
      "source": [
        "#평균제곱근 오차를 구한다. \n",
        "rmse = np.sqrt(mean_squared_error(y_test, y_test_predict)\n",
        "# print('RMSE = ', rmse)  # RMSE =  6.492045252348338\n",
        " \n",
        "plt.scatter(y_test, y_test_predict) #산포도 그래프를 그림. \n",
        "plt.show()"
      ],
      "metadata": {
        "id": "QCrWJ4dSl33R"
      },
      "execution_count": null,
      "outputs": []
    },
    {
      "cell_type": "code",
      "source": [
        ""
      ],
      "metadata": {
        "id": "zN_c1r7Nl30y"
      },
      "execution_count": null,
      "outputs": []
    },
    {
      "cell_type": "code",
      "source": [
        ""
      ],
      "metadata": {
        "id": "cnRwfkrHl3ym"
      },
      "execution_count": null,
      "outputs": []
    },
    {
      "cell_type": "code",
      "source": [
        ""
      ],
      "metadata": {
        "id": "_NWJJrY_l3wa"
      },
      "execution_count": null,
      "outputs": []
    }
  ]
}