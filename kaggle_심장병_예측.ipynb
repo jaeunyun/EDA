{
  "nbformat": 4,
  "nbformat_minor": 0,
  "metadata": {
    "colab": {
      "name": "kaggle_심장병_예측.ipynb",
      "provenance": [],
      "collapsed_sections": []
    },
    "kernelspec": {
      "name": "python3",
      "display_name": "Python 3"
    },
    "language_info": {
      "name": "python"
    }
  },
  "cells": [
    {
      "cell_type": "code",
      "source": [
        ""
      ],
      "metadata": {
        "id": "sLDjvnbpULPA"
      },
      "execution_count": null,
      "outputs": []
    },
    {
      "cell_type": "code",
      "execution_count": 1,
      "metadata": {
        "id": "Kq_2HJzPRRzL"
      },
      "outputs": [],
      "source": [
        "import warnings\n",
        "warnings.filterwarnings(\"ignore\")\n",
        "\n",
        "import pandas as pd\n",
        "import numpy as np\n",
        "import matplotlib.pyplot as plt\n",
        "\n",
        "# visualization\n",
        "import seaborn as sns\n",
        "import matplotlib as mpl\n",
        "import matplotlib.pyplot as plt\n",
        "%matplotlib inline\n",
        "\n",
        "from sklearn import datasets, model_selection, linear_model\n",
        "from sklearn.metrics import mean_squared_error"
      ]
    },
    {
      "cell_type": "code",
      "source": [
        "df = pd.read_csv('heart.csv')\n",
        "df.head(3)"
      ],
      "metadata": {
        "id": "bAXwOXjPRXxx"
      },
      "execution_count": null,
      "outputs": []
    },
    {
      "cell_type": "code",
      "source": [
        "#데이터 기본정보 확인\n",
        "df.info()"
      ],
      "metadata": {
        "id": "mvhS65ePRXvu"
      },
      "execution_count": null,
      "outputs": []
    },
    {
      "cell_type": "code",
      "source": [
        "df.isnull().sum()"
      ],
      "metadata": {
        "id": "kbvZmr1LRXt6"
      },
      "execution_count": null,
      "outputs": []
    },
    {
      "cell_type": "markdown",
      "source": [
        "age(연속) : 연령\n",
        "\n",
        "sex : 성별(0,1)_(0: 여자, 1:남자)\n",
        "\n",
        "cp : 흉통 유형 (0,1,2,3)_(1: typical angina, 2: atypical angina, 3: non-anginal pain, 4: asymptomatic)\n",
        "\n",
        "trestbps(연속) : 휴식 혈압\n",
        "\n",
        "chol(연속) : 혈청 cholestoral (mg / dl)\n",
        "\n",
        "fbs : 공복 혈당(0,1)_(> 120 mg/dl, 1 = true; 0 = false)\n",
        "\n",
        "restecg : 휴식 심전도 결과(0,1,2)_( (0 = normal, 1 = having ST-T wave abnormality, 2 = showing probable or definite left ventricular hypertrophy by Estes' criteria)\n",
        "\n",
        "thalach(연속) : 최대 심박수 달성\n",
        "\n",
        "exang : 운동 유발 협심증(0,1)_(1 = yes; 0 = no)\n",
        "\n",
        "oldpeak(연속) : 휴식과 관련하여 운동에 의해 유발 된 ST 우울증\n",
        "\n",
        "slope : 피크 운동의 기울기 ST 세그먼트(0,1,2)_(1: upsloping, 2: flat, 3: downsloping)\n",
        "\n",
        "ca : The number of major vessels (0,1,2,3,4)\n",
        "\n",
        "thal : thalassemia라고 불리는 혈액 질환 (0,1,2,3)_(3 = normal; 6 = fixed defect; 7 = reversable defect)\n",
        "\n",
        "target: Heart disease (0 = no, 1 = yes)"
      ],
      "metadata": {
        "id": "UKv5-brURufe"
      }
    },
    {
      "cell_type": "code",
      "source": [
        "df.describe()"
      ],
      "metadata": {
        "id": "uBmpLxZ2RXrU"
      },
      "execution_count": null,
      "outputs": []
    },
    {
      "cell_type": "code",
      "source": [
        "# 범주형 \n",
        "df.groupby('sex').target.mean()"
      ],
      "metadata": {
        "id": "Vma_j6v5RXo_"
      },
      "execution_count": null,
      "outputs": []
    },
    {
      "cell_type": "code",
      "source": [
        "df.groupby('sex').target.mean().plot.bar()"
      ],
      "metadata": {
        "id": "V-Py9nr_RXmj"
      },
      "execution_count": null,
      "outputs": []
    },
    {
      "cell_type": "code",
      "source": [
        "df.groupby('cp').target.mean()"
      ],
      "metadata": {
        "id": "HrBCg4ZARXkB"
      },
      "execution_count": null,
      "outputs": []
    },
    {
      "cell_type": "code",
      "source": [
        "df.groupby('cp').target.mean().plot.bar()"
      ],
      "metadata": {
        "id": "orj2qkVaRXhV"
      },
      "execution_count": null,
      "outputs": []
    },
    {
      "cell_type": "code",
      "source": [
        "df.groupby('fbs').target.mean()"
      ],
      "metadata": {
        "id": "FL_31zl7RXfM"
      },
      "execution_count": null,
      "outputs": []
    },
    {
      "cell_type": "code",
      "source": [
        "df.groupby('fbs').target.mean().plot.bar()"
      ],
      "metadata": {
        "id": "RgazwVr2RXc2"
      },
      "execution_count": null,
      "outputs": []
    },
    {
      "cell_type": "code",
      "source": [
        "df.groupby('restecg').target.mean()"
      ],
      "metadata": {
        "id": "PdTYPx-ZRXaO"
      },
      "execution_count": null,
      "outputs": []
    },
    {
      "cell_type": "code",
      "source": [
        "df.groupby('restecg').target.mean().plot.bar()"
      ],
      "metadata": {
        "id": "pOIjH0ozRXX9"
      },
      "execution_count": null,
      "outputs": []
    },
    {
      "cell_type": "code",
      "source": [
        "df.groupby('exang').target.mean()"
      ],
      "metadata": {
        "id": "JeHDMqSzRXVt"
      },
      "execution_count": null,
      "outputs": []
    },
    {
      "cell_type": "code",
      "source": [
        "df.groupby('exang').target.mean().plot.bar()"
      ],
      "metadata": {
        "id": "FxqmrTYuRXTH"
      },
      "execution_count": null,
      "outputs": []
    },
    {
      "cell_type": "code",
      "source": [
        "df.groupby('slope').target.mean()"
      ],
      "metadata": {
        "id": "rRauqk8bRXQg"
      },
      "execution_count": null,
      "outputs": []
    },
    {
      "cell_type": "code",
      "source": [
        "df.groupby('slope').target.mean().plot.bar()"
      ],
      "metadata": {
        "id": "HHtU1gKkRXOO"
      },
      "execution_count": null,
      "outputs": []
    },
    {
      "cell_type": "code",
      "source": [
        "df.groupby('ca').target.mean()"
      ],
      "metadata": {
        "id": "aPLHvB0lSLFd"
      },
      "execution_count": null,
      "outputs": []
    },
    {
      "cell_type": "code",
      "source": [
        "df.groupby('ca').target.mean().plot.bar()"
      ],
      "metadata": {
        "id": "cnyOMWq1SLC_"
      },
      "execution_count": null,
      "outputs": []
    },
    {
      "cell_type": "code",
      "source": [
        "df.groupby('thal').target.mean()"
      ],
      "metadata": {
        "id": "B_Wx5N6RSLA5"
      },
      "execution_count": null,
      "outputs": []
    },
    {
      "cell_type": "code",
      "source": [
        "df.groupby('thal').target.mean().plot.bar()"
      ],
      "metadata": {
        "id": "23maytnjSK-h"
      },
      "execution_count": null,
      "outputs": []
    },
    {
      "cell_type": "code",
      "source": [
        "#연속형\n",
        "def draw_facetgrid(feature):\n",
        "    facet = sns.FacetGrid(df, hue=\"target\", aspect=5) # Multi-plot grid for plotting conditional relationships.\n",
        "    facet.map(sns.kdeplot, feature, shade=True)\n",
        "    facet.set(xlim=(0, df[feature].max()))\n",
        "    \n",
        "    facet.add_legend() \n",
        "    plt.show()"
      ],
      "metadata": {
        "id": "DITp5wGMSK8R"
      },
      "execution_count": null,
      "outputs": []
    },
    {
      "cell_type": "code",
      "source": [
        "draw_facetgrid(\"trestbps\")"
      ],
      "metadata": {
        "id": "zNLIt0fqSK6A"
      },
      "execution_count": null,
      "outputs": []
    },
    {
      "cell_type": "code",
      "source": [
        "draw_facetgrid(\"chol\")\n"
      ],
      "metadata": {
        "id": "nUWApwjsSK3X"
      },
      "execution_count": null,
      "outputs": []
    },
    {
      "cell_type": "code",
      "source": [
        "draw_facetgrid(\"thalach\")"
      ],
      "metadata": {
        "id": "Qz5SemxzSK1H"
      },
      "execution_count": null,
      "outputs": []
    },
    {
      "cell_type": "code",
      "source": [
        "draw_facetgrid(\"oldpeak\")"
      ],
      "metadata": {
        "id": "ca8fAzpySKy3"
      },
      "execution_count": null,
      "outputs": []
    },
    {
      "cell_type": "code",
      "source": [
        "#연속형 > 범주형\n",
        "#연속 값 : age,trestbps, chol, thalach, oldpeak\n",
        "\n",
        "df[['age','trestbps', 'chol', 'thalach', 'oldpeak']].describe()"
      ],
      "metadata": {
        "id": "MkJ49gsbSYf6"
      },
      "execution_count": null,
      "outputs": []
    },
    {
      "cell_type": "code",
      "source": [
        "#age\n",
        "bins = [0,29,48,56,61,78]\n",
        "labels = [0,1,2,3,4]\n",
        "cats_a = pd.cut(df.age, bins, labels=labels)"
      ],
      "metadata": {
        "id": "LbMCMjhNSYeJ"
      },
      "execution_count": null,
      "outputs": []
    },
    {
      "cell_type": "code",
      "source": [
        "df1 = pd.DataFrame(df[[\"age\"]], columns=[\"age\"])\n",
        "df1[\"age_cat\"] = cats_a\n",
        "df1.head()"
      ],
      "metadata": {
        "id": "F3kBbgLDSYb2"
      },
      "execution_count": null,
      "outputs": []
    },
    {
      "cell_type": "code",
      "source": [
        "df1.groupby(['age_cat']).size().plot(kind='bar',stacked=True)\n",
        "plt.title(\"Distribution of Age Groups\",fontsize=14)\n",
        "plt.ylabel('Count')\n",
        "plt.xlabel('Age Group');"
      ],
      "metadata": {
        "id": "3YEotgu6SYZx"
      },
      "execution_count": null,
      "outputs": []
    },
    {
      "cell_type": "code",
      "source": [
        "df[\"age\"] = df1[[\"age_cat\"]]\n",
        "\n",
        "df.head()"
      ],
      "metadata": {
        "id": "L6cliBWOSYXn"
      },
      "execution_count": null,
      "outputs": []
    },
    {
      "cell_type": "code",
      "source": [
        "#trestbps\n",
        "bins = [0,94,120,130,140,201]\n",
        "labels = [0,1,2,3,4]\n",
        "cats_trestbps = pd.cut(df.trestbps, bins, labels=labels)"
      ],
      "metadata": {
        "id": "Lxn1GarjSYVZ"
      },
      "execution_count": null,
      "outputs": []
    },
    {
      "cell_type": "code",
      "source": [
        "df2 = pd.DataFrame(df[[\"trestbps\"]], columns=[\"trestbps\"])\n",
        "df2[\"trestbps_cat\"] = cats_trestbps\n",
        "df2.head()"
      ],
      "metadata": {
        "id": "s_zr7p1OSYTO"
      },
      "execution_count": null,
      "outputs": []
    },
    {
      "cell_type": "code",
      "source": [
        "df2.groupby(['trestbps_cat']).size().plot(kind='bar',stacked=True)\n",
        "plt.title(\"Distribution of trestbps Groups\",fontsize=14)\n",
        "plt.ylabel('Count')\n",
        "plt.xlabel('trestbps Group');"
      ],
      "metadata": {
        "id": "RFCJTRe6SKwa"
      },
      "execution_count": null,
      "outputs": []
    },
    {
      "cell_type": "code",
      "source": [
        "df['trestbps'] = cats_trestbps"
      ],
      "metadata": {
        "id": "fB_d_AEPSKuF"
      },
      "execution_count": null,
      "outputs": []
    },
    {
      "cell_type": "code",
      "source": [
        "bins = [0,126,211,240,275,564]\n",
        "labels = [0,1,2,3,4]\n",
        "cats_chol = pd.cut(df.chol, bins, labels=labels)"
      ],
      "metadata": {
        "id": "ER13a-0tSufL"
      },
      "execution_count": null,
      "outputs": []
    },
    {
      "cell_type": "code",
      "source": [
        "df3 = pd.DataFrame(df[[\"chol\"]], columns=[\"chol\"])\n",
        "df3[\"chol_cat\"] = cats_chol\n",
        "df3.head()"
      ],
      "metadata": {
        "id": "9pINsCoDSuc_"
      },
      "execution_count": null,
      "outputs": []
    },
    {
      "cell_type": "code",
      "source": [
        "df3.groupby(['chol_cat']).size().plot(kind='bar',stacked=True)\n",
        "plt.title(\"Distribution of chol Groups\",fontsize=14)\n",
        "plt.ylabel('Count')\n",
        "plt.xlabel('chol Group');"
      ],
      "metadata": {
        "id": "s7KTeNWQSua4"
      },
      "execution_count": null,
      "outputs": []
    },
    {
      "cell_type": "code",
      "source": [
        "\n",
        "df['chol'] = cats_chol"
      ],
      "metadata": {
        "id": "WfrBmDN6SuY4"
      },
      "execution_count": null,
      "outputs": []
    },
    {
      "cell_type": "code",
      "source": [
        "#thalach\n",
        "bins = [0,71,132,152,166,202]\n",
        "labels = [0,1,2,3,4]\n",
        "cats_thalach = pd.cut(df.thalach, bins, labels=labels)"
      ],
      "metadata": {
        "id": "6_vT9Vh2SuW2"
      },
      "execution_count": null,
      "outputs": []
    },
    {
      "cell_type": "code",
      "source": [
        "df4 = pd.DataFrame(df[[\"thalach\"]], columns=[\"thalach\"])\n",
        "df4[\"thalach_cat\"] = cats_thalach\n",
        "df4.head()"
      ],
      "metadata": {
        "id": "zJAFQbdOSuUg"
      },
      "execution_count": null,
      "outputs": []
    },
    {
      "cell_type": "code",
      "source": [
        "df4.groupby(['thalach_cat']).size().plot(kind='bar',stacked=True)\n",
        "plt.title(\"Distribution of thalach Groups\",fontsize=14)\n",
        "plt.ylabel('Count')\n",
        "plt.xlabel('thalach Group');"
      ],
      "metadata": {
        "id": "uXURhR9MSuSg"
      },
      "execution_count": null,
      "outputs": []
    },
    {
      "cell_type": "code",
      "source": [
        "df['thalach'] = cats_thalach"
      ],
      "metadata": {
        "id": "wU-ffcltS-BD"
      },
      "execution_count": null,
      "outputs": []
    },
    {
      "cell_type": "code",
      "source": [
        "#oldpeak\n",
        "bins = [-2,0.8,1.8,6.2]\n",
        "labels = [0,1,2]\n",
        "cats_oldpeak = pd.cut(df.oldpeak, bins, labels=labels)"
      ],
      "metadata": {
        "id": "XTsmkg0GS9_G"
      },
      "execution_count": null,
      "outputs": []
    },
    {
      "cell_type": "code",
      "source": [
        "df5.groupby(['oldpeak_cat']).size().plot(kind='bar',stacked=True)\n",
        "plt.title(\"Distribution of oldpeak Groups\",fontsize=14)\n",
        "plt.ylabel('Count')\n",
        "plt.xlabel('oldpeak Group');"
      ],
      "metadata": {
        "id": "z2muZpmVS98q"
      },
      "execution_count": null,
      "outputs": []
    },
    {
      "cell_type": "code",
      "source": [
        "df['oldpeak'] = cats_oldpeak"
      ],
      "metadata": {
        "id": "KldyHc7_S96a"
      },
      "execution_count": null,
      "outputs": []
    },
    {
      "cell_type": "code",
      "source": [
        "df.head(15)"
      ],
      "metadata": {
        "id": "24Y4Kc7fS94H"
      },
      "execution_count": null,
      "outputs": []
    },
    {
      "cell_type": "code",
      "source": [
        "# 상관관계 분석\n",
        "sns.heatmap(df.corr(),annot=True,cmap='RdYlGn',linewidths=0.2)\n",
        "fig=plt.gcf()\n",
        "fig.set_size_inches(10,8)\n",
        "plt.show()"
      ],
      "metadata": {
        "id": "MdB4rzLGS915"
      },
      "execution_count": null,
      "outputs": []
    },
    {
      "cell_type": "code",
      "source": [
        "#모델학습 (머신러닝)\n",
        "x_data = df.drop(['target'], axis=1)\n",
        "y_data = df[['target']]"
      ],
      "metadata": {
        "id": "DnfOqjzZS9zu"
      },
      "execution_count": null,
      "outputs": []
    },
    {
      "cell_type": "code",
      "source": [
        "x_data = np.array(x_data)\n",
        "y_target = np.array(y_data)"
      ],
      "metadata": {
        "id": "NkpHZdeZS9xZ"
      },
      "execution_count": null,
      "outputs": []
    },
    {
      "cell_type": "code",
      "source": [
        "from sklearn import model_selection\n",
        "\n",
        "x_train, x_test, y_train, y_test = model_selection.train_test_split(x_data, y_target, test_size=0.3, random_state=0)"
      ],
      "metadata": {
        "id": "o75fU5gdS9vO"
      },
      "execution_count": null,
      "outputs": []
    },
    {
      "cell_type": "code",
      "source": [
        "print(x_train.shape)\n",
        "print(x_test.shape)\n",
        "print(y_train.shape)\n",
        "print(y_test.shape)"
      ],
      "metadata": {
        "id": "5lCxIN95TTvZ"
      },
      "execution_count": null,
      "outputs": []
    },
    {
      "cell_type": "code",
      "source": [
        "from sklearn import tree\n",
        "from sklearn.ensemble import RandomForestClassifier\n",
        "from sklearn.svm import SVC, LinearSVC\n",
        "from sklearn.linear_model import LogisticRegression\n",
        "from sklearn.metrics import accuracy_score\n",
        "from sklearn.ensemble import RandomForestClassifier\n",
        "from sklearn.neighbors import KNeighborsClassifier\n",
        "from sklearn.naive_bayes import GaussianNB\n",
        "from sklearn.linear_model import SGDClassifier\n",
        "from sklearn.tree import DecisionTreeClassifier"
      ],
      "metadata": {
        "id": "WkVLkqo0TTtL"
      },
      "execution_count": null,
      "outputs": []
    },
    {
      "cell_type": "code",
      "source": [
        "# Support Vector Machines\n",
        "\n",
        "svc = SVC(kernel='rbf', probability=True)\n",
        "svc.fit(x_train, y_train)\n",
        "Y_pred = svc.predict(x_test) \n",
        "# pred_test = svc.predict_proba(x_test, probability=True)\n",
        "acc_svc = round(svc.score(x_train, y_train) * 100, 2)\n",
        "acc_svc"
      ],
      "metadata": {
        "id": "8Xz_DO6_TTrL"
      },
      "execution_count": null,
      "outputs": []
    },
    {
      "cell_type": "code",
      "source": [
        "from sklearn import metrics\n",
        "\n",
        "acc_svc = round(metrics.accuracy_score(Y_pred, y_test) * 100, 2)\n",
        "acc_svc"
      ],
      "metadata": {
        "id": "TOf0ny8VTTpB"
      },
      "execution_count": null,
      "outputs": []
    },
    {
      "cell_type": "code",
      "source": [
        "from sklearn.metrics import confusion_matrix\n",
        "\n",
        "Y_pred = svc.predict(x_test)\n",
        "\n",
        "cm_svc = confusion_matrix(Y_pred, y_test)\n",
        "plt.subplot(2,3,3)\n",
        "plt.title(\"SVC Matrix\")\n",
        "sns.heatmap(cm_svc,annot=True,cmap=\"Blues\",fmt=\"d\",cbar=False, annot_kws={\"size\": 15})"
      ],
      "metadata": {
        "id": "bHzPw6GcTTmj"
      },
      "execution_count": null,
      "outputs": []
    },
    {
      "cell_type": "code",
      "source": [
        "# knn\n",
        "\n",
        "knn = KNeighborsClassifier(n_neighbors = 3)\n",
        "knn.fit(x_train, y_train)\n",
        "Y_pred = knn.predict(x_test)\n",
        "# pred_test = knn.predict_proba(x_test)\n",
        "acc_knn = round(knn.score(x_train, y_train) * 100, 2)\n",
        "acc_knn"
      ],
      "metadata": {
        "id": "cVWT8M7zTTkn"
      },
      "execution_count": null,
      "outputs": []
    },
    {
      "cell_type": "code",
      "source": [
        "from sklearn import metrics\n",
        "\n",
        "acc_knn = round(metrics.accuracy_score(Y_pred, y_test) * 100, 2)\n",
        "acc_knn"
      ],
      "metadata": {
        "id": "f4B2vasuTTiK"
      },
      "execution_count": null,
      "outputs": []
    },
    {
      "cell_type": "code",
      "source": [
        "cm_knn = confusion_matrix(Y_pred, y_test)\n",
        "plt.subplot(2,3,3)\n",
        "plt.title(\"KNN Matrix\")\n",
        "sns.heatmap(cm_knn,annot=True,cmap=\"Blues\",fmt=\"d\",cbar=False, annot_kws={\"size\": 15})"
      ],
      "metadata": {
        "id": "oaHCuRLkSuQa"
      },
      "execution_count": null,
      "outputs": []
    },
    {
      "cell_type": "code",
      "source": [
        "# Gaussian Naive Bayes\n",
        "\n",
        "gaussian = GaussianNB()\n",
        "gaussian.fit(x_train, y_train)\n",
        "Y_pred = gaussian.predict(x_test)\n",
        "# pred_test = gaussian.predict_proba(x_test)\n",
        "acc_gaussian = round(gaussian.score(x_train, y_train) * 100, 2)\n",
        "acc_gaussian"
      ],
      "metadata": {
        "id": "dNmmcanoTdFK"
      },
      "execution_count": null,
      "outputs": []
    },
    {
      "cell_type": "code",
      "source": [
        "from sklearn import metrics\n",
        "\n",
        "acc_gaussian = round(metrics.accuracy_score(Y_pred, y_test) * 100, 2)\n",
        "acc_gaussian"
      ],
      "metadata": {
        "id": "Pn_btXl-TdCt"
      },
      "execution_count": null,
      "outputs": []
    },
    {
      "cell_type": "code",
      "source": [
        "cm_gaussian = confusion_matrix(Y_pred, y_test)\n",
        "plt.subplot(2,3,3)\n",
        "plt.title(\"GaussianNB Matrix\")\n",
        "sns.heatmap(cm_gaussian,annot=True,cmap=\"Blues\",fmt=\"d\",cbar=False, annot_kws={\"size\": 15})"
      ],
      "metadata": {
        "id": "ms2-rfIoTdAS"
      },
      "execution_count": null,
      "outputs": []
    },
    {
      "cell_type": "code",
      "source": [
        "# Logistic Regression\n",
        "\n",
        "logistic = linear_model.LogisticRegression()\n",
        "logistic.fit(x_train, y_train)\n",
        "Y_pred = logistic.predict(x_test)\n",
        "pred_test = logistic.predict_proba(x_test)\n",
        "acc_log = round(logistic.score(x_train, y_train) * 100, 2)\n",
        "acc_log"
      ],
      "metadata": {
        "id": "QG80IgoITc-U"
      },
      "execution_count": null,
      "outputs": []
    },
    {
      "cell_type": "code",
      "source": [
        "from sklearn import metrics\n",
        "\n",
        "acc_log = round(metrics.accuracy_score(Y_pred, y_test) * 100, 2)\n",
        "acc_log"
      ],
      "metadata": {
        "id": "k4xYfVXETc76"
      },
      "execution_count": null,
      "outputs": []
    },
    {
      "cell_type": "code",
      "source": [
        "cm_LogisticRegression = confusion_matrix(Y_pred, y_test)\n",
        "plt.subplot(2,3,3)\n",
        "plt.title(\"LogisticRegression Matrix\")\n",
        "sns.heatmap(cm_LogisticRegression,annot=True,cmap=\"Blues\",fmt=\"d\",cbar=False, annot_kws={\"size\": 15})"
      ],
      "metadata": {
        "id": "9maB6zk2TljK"
      },
      "execution_count": null,
      "outputs": []
    },
    {
      "cell_type": "code",
      "source": [
        "# Linear SVC\n",
        "\n",
        "linear_svc = LinearSVC()\n",
        "linear_svc.fit(x_train, y_train)\n",
        "Y_pred = linear_svc.predict(x_test)\n",
        "acc_linear_svc = round(linear_svc.score(x_train, y_train) * 100, 2)\n",
        "acc_linear_svc"
      ],
      "metadata": {
        "id": "N43GlQHcTlg6"
      },
      "execution_count": null,
      "outputs": []
    },
    {
      "cell_type": "code",
      "source": [
        "from sklearn import metrics\n",
        "\n",
        "acc_linear_svc = round(metrics.accuracy_score(Y_pred, y_test) * 100, 2)\n",
        "acc_linear_svc"
      ],
      "metadata": {
        "id": "n26Td9KwTlez"
      },
      "execution_count": null,
      "outputs": []
    },
    {
      "cell_type": "code",
      "source": [
        "cm_LinearSVC = confusion_matrix(Y_pred, y_test)\n",
        "plt.subplot(2,3,3)\n",
        "plt.title(\"LinearSVC Matrix\")\n",
        "sns.heatmap(cm_LinearSVC,annot=True,cmap=\"Blues\",fmt=\"d\",cbar=False, annot_kws={\"size\": 15})"
      ],
      "metadata": {
        "id": "P7f3d7RATlck"
      },
      "execution_count": null,
      "outputs": []
    },
    {
      "cell_type": "code",
      "source": [
        "# Decision Tree\n",
        "\n",
        "decision_tree = DecisionTreeClassifier()\n",
        "decision_tree.fit(x_train, y_train)\n",
        "Y_pred = decision_tree.predict(x_test)\n",
        "pred_test = logistic.predict_proba(x_test)\n",
        "acc_decision_tree = round(decision_tree.score(x_train, y_train) * 100, 2)\n",
        "acc_decision_tree"
      ],
      "metadata": {
        "id": "kWH8CPUWTlaV"
      },
      "execution_count": null,
      "outputs": []
    },
    {
      "cell_type": "code",
      "source": [
        "from sklearn import metrics\n",
        "\n",
        "acc_decision_tree = round(metrics.accuracy_score(Y_pred, y_test) * 100, 2)\n",
        "acc_decision_tree"
      ],
      "metadata": {
        "id": "LEBafLv_TlYC"
      },
      "execution_count": null,
      "outputs": []
    },
    {
      "cell_type": "code",
      "source": [
        "cm_DecisionTree = confusion_matrix(Y_pred, y_test)\n",
        "plt.subplot(2,3,3)\n",
        "plt.title(\"DecisionTree Matrix\")\n",
        "sns.heatmap(cm_DecisionTree,annot=True,cmap=\"Blues\",fmt=\"d\",cbar=False, annot_kws={\"size\": 15})"
      ],
      "metadata": {
        "id": "5qPGzA6RTs0P"
      },
      "execution_count": null,
      "outputs": []
    },
    {
      "cell_type": "code",
      "source": [
        "# Random Forest\n",
        "\n",
        "random_forest = RandomForestClassifier(n_estimators=100)\n",
        "random_forest.fit(x_train, y_train)\n",
        "Y_pred = random_forest.predict(x_test)\n",
        "pred_test = logistic.predict_proba(x_test)\n",
        "#random_forest.score(x_train, y_train)\n",
        "acc_random_forest = round(random_forest.score(x_train, y_train) * 100, 2)\n",
        "acc_random_forest"
      ],
      "metadata": {
        "id": "HsM5HsCGTsyB"
      },
      "execution_count": null,
      "outputs": []
    },
    {
      "cell_type": "code",
      "source": [
        "from sklearn import metrics\n",
        "\n",
        "acc_random_forest = round(metrics.accuracy_score(Y_pred, y_test) * 100, 2)\n",
        "acc_random_forest"
      ],
      "metadata": {
        "id": "JVLmnjAJTsv5"
      },
      "execution_count": null,
      "outputs": []
    },
    {
      "cell_type": "code",
      "source": [
        "cm_RandomForest = confusion_matrix(Y_pred, y_test)\n",
        "plt.subplot(2,3,3)\n",
        "plt.title(\"RandomForest Matrix\")\n",
        "sns.heatmap(cm_RandomForest,annot=True,cmap=\"Blues\",fmt=\"d\",cbar=False, annot_kws={\"size\": 15})"
      ],
      "metadata": {
        "id": "xazlFOOyTstp"
      },
      "execution_count": null,
      "outputs": []
    },
    {
      "cell_type": "code",
      "source": [
        "models = pd.DataFrame({\n",
        "    'Model': ['Support Vector Machines', 'KNN', 'Logistic Regression', \n",
        "              'Random Forest', 'Naive Bayes',\n",
        "              'Linear SVC', \n",
        "              'Decision Tree'],\n",
        "    'Score': [acc_svc, acc_knn, acc_log, \n",
        "              acc_random_forest, acc_gaussian,\n",
        "            acc_linear_svc, acc_decision_tree]})\n",
        "models.sort_values(by='Score', ascending=False)"
      ],
      "metadata": {
        "id": "mToS4oEOTsre"
      },
      "execution_count": null,
      "outputs": []
    },
    {
      "cell_type": "code",
      "source": [
        "#모델학습 (딥러닝)\n",
        "from sklearn.preprocessing import OneHotEncoder\n",
        "\n",
        "enc = OneHotEncoder(categories='auto')\n",
        "\n",
        "enc.fit(y_train)\n",
        "y_train = enc.transform(y_train).toarray()\n",
        "\n",
        "enc.fit(y_test)\n",
        "y_test = enc.transform(y_test).toarray()\n",
        "\n",
        "print(y_train.shape)\n",
        "print(y_test.shape)"
      ],
      "metadata": {
        "id": "rxdZoeqxT0fs"
      },
      "execution_count": null,
      "outputs": []
    },
    {
      "cell_type": "code",
      "source": [
        "import tensorflow as tf\n",
        "from tensorflow.keras import datasets, utils\n",
        "from tensorflow.keras import models, layers, activations, initializers, losses, optimizers, metrics\n",
        "\n",
        "import os\n",
        "tf.logging.set_verbosity(tf.logging.ERROR)\n",
        "os.environ['TF_CPP_MIN_LOG_LEVEL'] = '2'"
      ],
      "metadata": {
        "id": "zfZk9L83T0dd"
      },
      "execution_count": null,
      "outputs": []
    },
    {
      "cell_type": "code",
      "source": [
        "model = models.Sequential() \n",
        "\n",
        "model.add(layers.Dense(input_dim=13, units=256, activation=None, kernel_initializer=initializers.he_uniform())) \n",
        "# model.add(layers.BatchNormalization()) # Use this line as if needed\n",
        "model.add(layers.Activation('elu')) # layers.ELU or layers.LeakyReLU\n",
        "\n",
        "model.add(layers.Dense(units=512, activation=None, kernel_initializer=initializers.he_uniform())) \n",
        "model.add(layers.Activation('elu')) \n",
        "\n",
        "model.add(layers.Dense(units=512, activation=None, kernel_initializer=initializers.he_uniform())) \n",
        "model.add(layers.Activation('elu'))\n",
        "\n",
        "model.add(layers.Dense(units=256, activation=None, kernel_initializer=initializers.he_uniform())) \n",
        "model.add(layers.Activation('elu')) \n",
        "model.add(layers.Dropout(rate=0.5))   # 매 layer에 넣을 필요 없음. 마지막 layer에만 이렇게 넣기\n",
        "\n",
        "model.add(layers.Dense(units=2, activation='softmax')) # One-hot vector for 0 & 1"
      ],
      "metadata": {
        "id": "LknIkjhMT0bR"
      },
      "execution_count": null,
      "outputs": []
    },
    {
      "cell_type": "code",
      "source": [
        "model.compile(optimizer=optimizers.Adam(), \n",
        "              loss=losses.binary_crossentropy, \n",
        "              metrics=[metrics.categorical_accuracy]) "
      ],
      "metadata": {
        "id": "9-Owf0InT0ZP"
      },
      "execution_count": null,
      "outputs": []
    },
    {
      "cell_type": "code",
      "source": [
        "history = model.fit(x_train, y_train, batch_size=100, epochs=20, validation_split=0.3) \n",
        "# history = model.fit(x_train, y_train, batch_size=100, epochs=100, validation_split=0.0) "
      ],
      "metadata": {
        "id": "qSRskw2bT0Xc"
      },
      "execution_count": null,
      "outputs": []
    },
    {
      "cell_type": "code",
      "source": [
        "result = model.evaluate(x_test, y_test, batch_size=100)\n",
        "\n",
        "print('loss (cross-entropy) :', result[0])\n",
        "print('test accuracy :', result[1])"
      ],
      "metadata": {
        "id": "N0bwBBWmTc5i"
      },
      "execution_count": null,
      "outputs": []
    }
  ]
}